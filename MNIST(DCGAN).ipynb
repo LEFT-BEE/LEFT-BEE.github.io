{
  "nbformat": 4,
  "nbformat_minor": 0,
  "metadata": {
    "colab": {
      "name": "Untitled",
      "provenance": [],
      "private_outputs": true,
      "collapsed_sections": [],
      "authorship_tag": "ABX9TyM1Cg5zNx1O5FsoMDxishfP",
      "include_colab_link": true
    },
    "kernelspec": {
      "name": "python3",
      "display_name": "Python 3"
    }
  },
  "cells": [
    {
      "cell_type": "markdown",
      "metadata": {
        "id": "view-in-github",
        "colab_type": "text"
      },
      "source": [
        "<a href=\"https://colab.research.google.com/github/LEFT-BEE/LEFT-BEE.github.io/blob/master/MNIST(DCGAN).ipynb\" target=\"_parent\"><img src=\"https://colab.research.google.com/assets/colab-badge.svg\" alt=\"Open In Colab\"/></a>"
      ]
    },
    {
      "cell_type": "code",
      "metadata": {
        "id": "CBDSIIotdMFR",
        "colab_type": "code",
        "colab": {}
      },
      "source": [
        "!pip install numpy"
      ],
      "execution_count": null,
      "outputs": []
    },
    {
      "cell_type": "code",
      "metadata": {
        "id": "UR8A21drdnqu",
        "colab_type": "code",
        "colab": {}
      },
      "source": [
        "!!pip install keras"
      ],
      "execution_count": null,
      "outputs": []
    },
    {
      "cell_type": "code",
      "metadata": {
        "id": "DmSxyIvpdsO1",
        "colab_type": "code",
        "colab": {}
      },
      "source": [
        "import numpy as np\n",
        "from keras.models import *\n",
        "from keras.layers import *\n",
        "from keras.optimizers import  *\n",
        "from keras.datasets import mnist"
      ],
      "execution_count": null,
      "outputs": []
    },
    {
      "cell_type": "markdown",
      "metadata": {
        "id": "NYxq8IHafJGr",
        "colab_type": "text"
      },
      "source": [
        ""
      ]
    },
    {
      "cell_type": "code",
      "metadata": {
        "id": "zUonNum6eNk-",
        "colab_type": "code",
        "colab": {}
      },
      "source": [
        "import keras.backend as K\n",
        "import matplotlib.pyplot as plt"
      ],
      "execution_count": null,
      "outputs": []
    },
    {
      "cell_type": "code",
      "metadata": {
        "id": "LlLANY7XeYF7",
        "colab_type": "code",
        "colab": {}
      },
      "source": [
        "K.set_image_data_format('channels_last') #데이터를 정렬해주는듯?"
      ],
      "execution_count": null,
      "outputs": []
    },
    {
      "cell_type": "code",
      "metadata": {
        "id": "Cw8e80jhgF64",
        "colab_type": "code",
        "colab": {}
      },
      "source": [
        "(x_train, y_train), (x_test, y_test) = mnist.load_data()"
      ],
      "execution_count": null,
      "outputs": []
    },
    {
      "cell_type": "code",
      "metadata": {
        "id": "4qDBRsltju5U",
        "colab_type": "code",
        "colab": {}
      },
      "source": [
        "x_train.shape[1]"
      ],
      "execution_count": null,
      "outputs": []
    },
    {
      "cell_type": "code",
      "metadata": {
        "id": "k_QSs2xij36Z",
        "colab_type": "code",
        "colab": {}
      },
      "source": [
        "x_train.shape[2]"
      ],
      "execution_count": null,
      "outputs": []
    },
    {
      "cell_type": "code",
      "metadata": {
        "id": "TZHd6Wwnj27p",
        "colab_type": "code",
        "colab": {}
      },
      "source": [
        "class GAN:\n",
        "  def __init__(slef, img_data):\n",
        "    img_size = img_data.shape[1]#28\n",
        "    channel = img_data.shape[3] if len(img_data.shape) >= 4 else 1\n",
        "  \n",
        "    self.img_data = img_dataself.imput_shape = (img_size, img_size , channel)\n",
        "\n",
        "    self img_rows = img_size\n",
        "    self.img_cols = img_size\n",
        "    self.channel = channel\n",
        "    self.noise_size = 100\n",
        "\n",
        "    #creat D ang G\n",
        "    self.create_d()\n",
        "    self.create_g()\n",
        "\n",
        "    #Build model to train D.\n",
        "    optimizer = Adam(lr = 010008) #이떄 lr은 학습률이다\n",
        "    self.D.compile(loss = 'binary_crossentropy' , optimizer = optimizer)\n",
        "\n",
        "    #Build model to train G.\n",
        "    optimizer = Adam(lr = 0.0004)\n",
        "    self.D.trainable = False\n",
        "    self.AM = Sequential()\n",
        "    self.AM.add(self.G)\n",
        "    self.AM.add(self.D)\n",
        "    self.AM.compile(loss='binary_crossentropy' , optimizer = optimizer)\n",
        "\n",
        "  def create_d(self):\n",
        "    self.D = Sequential()\n",
        "    depth = 64\n",
        "    dropout = 0.4\n",
        "    self.D.add(Conv2D(depth*1 , 5, strides = 2, input_shape = self.imput_shape , padding = 'same'))\n",
        "    self.D.add(LeakyReLU(alpha))\n",
        "    self.D.add(Dropout(dropout))\n",
        "    self.D.add(Conv2D(depth*2,5,strides =2,padding='same'))\n",
        "    self.D.add(LeakyReLU(alpha=0.2))\n",
        "    self.D.add(Dropout(dropout))\n",
        "    self.D.add(Conv2D(depth*4, 5, strides=2, padding='same'))\n",
        "    self.D.add(LeakyReLU(alpha=0.2))\n",
        "    self.D.add(Dropout(dropout))\n",
        "    self.D.add(Conv2D(depth*8 , 5 , strides = 1 , padding = 'same'))\n",
        "    self.D.add(LeakyReLU(alpha = 0.2))\n",
        "    self.D.add(Dropout(dropout))\n",
        "    self.D.add(Flatten())\n",
        "    self.D.add(Dense(1))\n",
        "    self.D.add(Activation('sigmoid'))\n",
        "    self.D.summary()\n",
        "    return self.D\n",
        "\n",
        "  def\n",
        "\n",
        "    \n"
      ],
      "execution_count": null,
      "outputs": []
    }
  ]
}